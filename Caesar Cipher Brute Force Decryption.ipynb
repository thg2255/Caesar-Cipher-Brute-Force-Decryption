{
 "cells": [
  {
   "cell_type": "markdown",
   "id": "30c4884c",
   "metadata": {},
   "source": [
    "### Caesar Cipher Brute Force Decryption\n",
    "\n",
    "Takes in ciphertext, and shows all possible caesar cipher shifts to find the decrypted message"
   ]
  },
  {
   "cell_type": "code",
   "execution_count": 7,
   "id": "e8714590",
   "metadata": {},
   "outputs": [],
   "source": [
    "def cipher_decrypt(ciphertext, shift):\n",
    "    decrypted_text = ''\n",
    "    for char in ciphertext:\n",
    "        \n",
    "        # Need to make it circular \n",
    "        if char.isalpha():\n",
    "            shifted_ascii = ord(char) - shift\n",
    "            if char.islower():\n",
    "                if shifted_ascii < ord('a'):\n",
    "                    shifted_ascii += 26\n",
    "            elif char.isupper():\n",
    "                if shifted_ascii < ord('A'):\n",
    "                    shifted_ascii += 26\n",
    "            decrypted_text += chr(shifted_ascii)\n",
    "        else:\n",
    "            decrypted_text += char\n",
    "            \n",
    "    return decrypted_text"
   ]
  },
  {
   "cell_type": "code",
   "execution_count": 8,
   "id": "1d602663",
   "metadata": {},
   "outputs": [
    {
     "name": "stdout",
     "output_type": "stream",
     "text": [
      "Shift 1: SDAJEJPDAYKQNOAKBDQIWJARAJPO\n",
      "Shift 2: RCZIDIOCZXJPMNZJACPHVIZQZION\n",
      "Shift 3: QBYHCHNBYWIOLMYIZBOGUHYPYHNM\n",
      "Shift 4: PAXGBGMAXVHNKLXHYANFTGXOXGML\n",
      "Shift 5: OZWFAFLZWUGMJKWGXZMESFWNWFLK\n",
      "Shift 6: NYVEZEKYVTFLIJVFWYLDREVMVEKJ\n",
      "Shift 7: MXUDYDJXUSEKHIUEVXKCQDULUDJI\n",
      "Shift 8: LWTCXCIWTRDJGHTDUWJBPCTKTCIH\n",
      "Shift 9: KVSBWBHVSQCIFGSCTVIAOBSJSBHG\n",
      "Shift 10: JURAVAGURPBHEFRBSUHZNARIRAGF\n",
      "Shift 11: ITQZUZFTQOAGDEQARTGYMZQHQZFE\n",
      "Shift 12: HSPYTYESPNZFCDPZQSFXLYPGPYED\n",
      "Shift 13: GROXSXDROMYEBCOYPREWKXOFOXDC\n",
      "Shift 14: FQNWRWCQNLXDABNXOQDVJWNENWCB\n",
      "Shift 15: EPMVQVBPMKWCZAMWNPCUIVMDMVBA\n",
      "Shift 16: DOLUPUAOLJVBYZLVMOBTHULCLUAZ\n",
      "Shift 17: CNKTOTZNKIUAXYKULNASGTKBKTZY\n",
      "Shift 18: BMJSNSYMJHTZWXJTKMZRFSJAJSYX\n",
      "Shift 19: ALIRMRXLIGSYVWISJLYQERIZIRXW\n",
      "Shift 20: ZKHQLQWKHFRXUVHRIKXPDQHYHQWV\n",
      "Shift 21: YJGPKPVJGEQWTUGQHJWOCPGXGPVU\n",
      "Shift 22: XIFOJOUIFDPVSTFPGIVNBOFWFOUT\n",
      "Shift 23: WHENINTHECOURSEOFHUMANEVENTS\n",
      "Shift 24: VGDMHMSGDBNTQRDNEGTLZMDUDMSR\n",
      "Shift 25: UFCLGLRFCAMSPQCMDFSKYLCTCLRQ\n"
     ]
    }
   ],
   "source": [
    "ciphertext = \"TEBKFKQEBZLROPBLCERJXKBSBKQP\"\n",
    "for shift in range(1, 26):\n",
    "    decrypted_text = cipher_decrypt(ciphertext, shift)\n",
    "    print(f\"Shift {shift}: {decrypted_text}\")\n"
   ]
  },
  {
   "cell_type": "code",
   "execution_count": null,
   "id": "e8790a44",
   "metadata": {},
   "outputs": [],
   "source": []
  }
 ],
 "metadata": {
  "kernelspec": {
   "display_name": "Python 3",
   "language": "python",
   "name": "python3"
  },
  "language_info": {
   "codemirror_mode": {
    "name": "ipython",
    "version": 3
   },
   "file_extension": ".py",
   "mimetype": "text/x-python",
   "name": "python",
   "nbconvert_exporter": "python",
   "pygments_lexer": "ipython3",
   "version": "3.8.8"
  }
 },
 "nbformat": 4,
 "nbformat_minor": 5
}
